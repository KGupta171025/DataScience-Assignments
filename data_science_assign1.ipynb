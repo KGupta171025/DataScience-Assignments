{
  "nbformat": 4,
  "nbformat_minor": 0,
  "metadata": {
    "colab": {
      "provenance": []
    },
    "kernelspec": {
      "name": "python3",
      "display_name": "Python 3"
    },
    "language_info": {
      "name": "python"
    }
  },
  "cells": [
    {
      "cell_type": "markdown",
      "source": [
        "# Python Basics Questions"
      ],
      "metadata": {
        "id": "B4IewNL2Ay-V"
      }
    },
    {
      "cell_type": "markdown",
      "source": [
        "1. What is Python, and why is it popular"
      ],
      "metadata": {
        "id": "WRIbelTi7LLw"
      }
    },
    {
      "cell_type": "markdown",
      "source": [
        "Python is a high-level, interpreted programming language known for its simple syntax and readability.\n",
        "\n",
        "\n",
        "Reasons for popularity:\n",
        "\n",
        "\n",
        "\n",
        "*   Easy to learn and use\n",
        "\n",
        "*  Huge community support\n",
        "\n",
        "*   Extensive libraries and frameworks\n",
        "\n",
        "\n",
        "*   Versatile (used in web development, AI, data science, automation, etc.)\n",
        "\n",
        "\n",
        "*   Cross-platform support\n",
        "\n",
        "\n",
        "\n",
        "\n",
        "\n",
        "\n",
        "\n"
      ],
      "metadata": {
        "id": "Fnpl4Kk67xdC"
      }
    },
    {
      "cell_type": "markdown",
      "source": [
        "2.  What is an interpreter in Python?"
      ],
      "metadata": {
        "id": "6iBkUukd83Ka"
      }
    },
    {
      "cell_type": "markdown",
      "source": [
        "An interpreter is a program that executes Python code line by line.\n",
        "It reads each line of code, converts it to machine code, and runs it immediately.\n",
        "Python uses an interpreter instead of a compiler."
      ],
      "metadata": {
        "id": "03YwklYw86yr"
      }
    },
    {
      "cell_type": "markdown",
      "source": [
        "3.  What are pre-defined keywords in Python?"
      ],
      "metadata": {
        "id": "khwkY2lu9C2N"
      }
    },
    {
      "cell_type": "markdown",
      "source": [
        "Pre-defined keywords are reserved words in Python that have special meanings and purposes.\n",
        "Examples: if, else, for, while, True, False, def, class, etc."
      ],
      "metadata": {
        "id": "YNySnu2x9HOF"
      }
    },
    {
      "cell_type": "markdown",
      "source": [
        "4. Can keywords be used as variable names?"
      ],
      "metadata": {
        "id": "B6nrsVtW6EEm"
      }
    },
    {
      "cell_type": "markdown",
      "source": [
        "No.\n",
        "Keywords are reserved and cannot be used as variable names, or it will cause a syntax error."
      ],
      "metadata": {
        "id": "n4yXaZL96F5v"
      }
    },
    {
      "cell_type": "markdown",
      "source": [
        "5. What is mutability in Python?"
      ],
      "metadata": {
        "id": "xTQYXXV36K26"
      }
    },
    {
      "cell_type": "markdown",
      "source": [
        "Mutability refers to whether an object’s value can be changed after creation.\n",
        "\n",
        "\n",
        "\n",
        "*   Mutable = can be changed (e.g., list, dictionary)\n",
        "\n",
        "\n",
        "*   Immutable = cannot be changed (e.g., tuple, string)\n",
        "\n"
      ],
      "metadata": {
        "id": "s8qrnOgP7Pqi"
      }
    },
    {
      "cell_type": "markdown",
      "source": [
        "6. Why are lists mutable, but tuples are immutable?"
      ],
      "metadata": {
        "id": "dEVn20x67j24"
      }
    },
    {
      "cell_type": "markdown",
      "source": [
        "\n",
        "\n",
        "*   Lists are designed to allow updates, insertions, and deletions, so they are mutable.\n",
        "\n",
        "\n",
        "*   Tuples are designed to be fixed and protect data integrity, so they are immutable."
      ],
      "metadata": {
        "id": "nBpuh2sj7n9E"
      }
    },
    {
      "cell_type": "markdown",
      "source": [
        "7. What is the difference between “==” and “is” operators in Python?"
      ],
      "metadata": {
        "id": "aa4Wlinw7zbU"
      }
    },
    {
      "cell_type": "markdown",
      "source": [
        "\n",
        "\n",
        "*    == checks value equality (Do the variables have the same value?)\n",
        "*   is checks object identity (Are they the same object in memory?)"
      ],
      "metadata": {
        "id": "qY5J0GOJ73_9"
      }
    },
    {
      "cell_type": "code",
      "source": [
        "a = [1, 2]\n",
        "b = [1, 2]\n",
        "print(a == b)  # True (values are equal)\n",
        "print(a is b)  # False (different objects)"
      ],
      "metadata": {
        "colab": {
          "base_uri": "https://localhost:8080/"
        },
        "id": "dRgznBpY8K8q",
        "outputId": "366bc84c-5b05-438a-f37d-fa66963cc347"
      },
      "execution_count": 2,
      "outputs": [
        {
          "output_type": "stream",
          "name": "stdout",
          "text": [
            "True\n",
            "False\n"
          ]
        }
      ]
    },
    {
      "cell_type": "markdown",
      "source": [
        "8. What are logical operators in Python?"
      ],
      "metadata": {
        "id": "Eyjnxuz18m9O"
      }
    },
    {
      "cell_type": "markdown",
      "source": [
        "Logical operators are used to combine conditional statements:\n",
        "\n",
        "*   and – True if both conditions are true\n",
        "*   or – True if at least one condition is true\n",
        "*   not – Reverses the boolean value"
      ],
      "metadata": {
        "id": "5Oqhs60o8tJ1"
      }
    },
    {
      "cell_type": "code",
      "source": [
        "x = 5\n",
        "print(x > 2 and x < 10)  # True"
      ],
      "metadata": {
        "colab": {
          "base_uri": "https://localhost:8080/"
        },
        "id": "QFoq3IEW9InM",
        "outputId": "8e24ebd0-4287-475b-8b23-f72f7157d392"
      },
      "execution_count": 3,
      "outputs": [
        {
          "output_type": "stream",
          "name": "stdout",
          "text": [
            "True\n"
          ]
        }
      ]
    },
    {
      "cell_type": "markdown",
      "source": [
        "9. What is type casting in Python?"
      ],
      "metadata": {
        "id": "UJZIMMn39TKZ"
      }
    },
    {
      "cell_type": "markdown",
      "source": [
        "Type casting means converting a variable from one data type to another, such as:\n",
        "\n",
        "\n",
        "*   int(), float(), str(), list(), etc."
      ],
      "metadata": {
        "id": "Cu4PLRzs9qRO"
      }
    },
    {
      "cell_type": "markdown",
      "source": [
        "10. What is the difference between implicit and explicit type casting?\n",
        "\n",
        "*   Implicit: Python automatically converts types\n",
        "    Example: a = 3 + 4.5 → a becomes 7.5 (float)\n",
        "\n",
        "*   Explicit: You manually convert using functions\n",
        "    Example: int(\"123\") → 123"
      ],
      "metadata": {
        "id": "dSCbeKXw-MA-"
      }
    },
    {
      "cell_type": "markdown",
      "source": [
        "11. What is the purpose of conditional statements in Python?"
      ],
      "metadata": {
        "id": "QPCKbw1b-zdI"
      }
    },
    {
      "cell_type": "markdown",
      "source": [
        "Conditional statements allow a program to make decisions and execute different blocks of code depending on conditions.\n",
        "\n",
        "Examples: if, else, elif"
      ],
      "metadata": {
        "id": "KIoOkHU-_FHk"
      }
    },
    {
      "cell_type": "markdown",
      "source": [
        "12. How does the elif statement work?"
      ],
      "metadata": {
        "id": "UAAfRJ9D_IIY"
      }
    },
    {
      "cell_type": "markdown",
      "source": [
        "elif (short for “else if”) is used to check multiple conditions one after another, after the if condition fails."
      ],
      "metadata": {
        "id": "C5yOK-S1_P9e"
      }
    },
    {
      "cell_type": "code",
      "source": [
        "x = 10\n",
        "if x < 5:\n",
        "    print(\"Less than 5\")\n",
        "elif x < 15:\n",
        "    print(\"Less than 15\")\n",
        "else:\n",
        "    print(\"15 or more\")"
      ],
      "metadata": {
        "colab": {
          "base_uri": "https://localhost:8080/"
        },
        "id": "RoSs3Y3x_RcN",
        "outputId": "ca52be1b-4a85-4f14-b5b2-92f7afd00027"
      },
      "execution_count": 4,
      "outputs": [
        {
          "output_type": "stream",
          "name": "stdout",
          "text": [
            "Less than 15\n"
          ]
        }
      ]
    },
    {
      "cell_type": "markdown",
      "source": [
        "13. What is the difference between for and while loops?"
      ],
      "metadata": {
        "id": "4xdliSB2_VaE"
      }
    },
    {
      "cell_type": "markdown",
      "source": [
        "\n",
        "\n",
        "*   for loop: Used when you know the number of iterations (e.g., looping through a list or range)\n",
        "\n",
        "*   while loop: Used when you want to loop until a condition becomes false"
      ],
      "metadata": {
        "id": "MnBpoCNR_h_q"
      }
    },
    {
      "cell_type": "markdown",
      "source": [
        "14. Describe a scenario where a while loop is more suitable than a for loop."
      ],
      "metadata": {
        "id": "WnGpG_0f_tXT"
      }
    },
    {
      "cell_type": "code",
      "source": [
        "password = \"\"\n",
        "while password != \"secret123\":\n",
        "    password = input(\"Enter password: \")\n",
        "print(\"Access granted\")"
      ],
      "metadata": {
        "colab": {
          "base_uri": "https://localhost:8080/"
        },
        "id": "fNIJlJ1OAVTS",
        "outputId": "b852681e-2d45-4eec-f60f-1a2e86295ca5"
      },
      "execution_count": 5,
      "outputs": [
        {
          "output_type": "stream",
          "name": "stdout",
          "text": [
            "Enter password: jyvbyjnk\n",
            "Enter password: secret123\n",
            "Access granted\n"
          ]
        }
      ]
    },
    {
      "cell_type": "markdown",
      "source": [
        "# Practical Questions"
      ],
      "metadata": {
        "id": "rPkvlyJ-CL5E"
      }
    },
    {
      "cell_type": "markdown",
      "source": [
        "1. Write a Python program to print \"Hello, World!"
      ],
      "metadata": {
        "id": "H1wvoqRtCb_Z"
      }
    },
    {
      "cell_type": "code",
      "source": [
        "print(\"Hello, World!\")"
      ],
      "metadata": {
        "colab": {
          "base_uri": "https://localhost:8080/"
        },
        "id": "WN-2Lb3QDk0J",
        "outputId": "d6548333-5a4b-40c5-d087-79dda4241ec4"
      },
      "execution_count": 6,
      "outputs": [
        {
          "output_type": "stream",
          "name": "stdout",
          "text": [
            "Hello, World!\n"
          ]
        }
      ]
    },
    {
      "cell_type": "markdown",
      "source": [
        "2. Write a Python program that displays your name and age8\n"
      ],
      "metadata": {
        "id": "ZVKE8Q8-Chme"
      }
    },
    {
      "cell_type": "code",
      "source": [
        "name = \"Krishna Gupta\"\n",
        "age = 21\n",
        "print(\"Name:\", name)\n",
        "print(\"Age:\", age)"
      ],
      "metadata": {
        "colab": {
          "base_uri": "https://localhost:8080/"
        },
        "id": "I3KSbiL3DqDd",
        "outputId": "4b668820-b9e5-46ee-ef20-1f41afc40ebe"
      },
      "execution_count": 7,
      "outputs": [
        {
          "output_type": "stream",
          "name": "stdout",
          "text": [
            "Name: Krishna Gupta\n",
            "Age: 21\n"
          ]
        }
      ]
    },
    {
      "cell_type": "markdown",
      "source": [
        "3. Write code to print all the pre-defined keywords in Python using the keyword library."
      ],
      "metadata": {
        "id": "J1pmuXvUClvw"
      }
    },
    {
      "cell_type": "code",
      "source": [
        "import keyword\n",
        "print(\"Python Keywords:\")\n",
        "print(keyword.kwlist)"
      ],
      "metadata": {
        "colab": {
          "base_uri": "https://localhost:8080/"
        },
        "id": "lo2pFO9SDujt",
        "outputId": "56927e83-2c31-45a7-e75b-d050c805296b"
      },
      "execution_count": 8,
      "outputs": [
        {
          "output_type": "stream",
          "name": "stdout",
          "text": [
            "Python Keywords:\n",
            "['False', 'None', 'True', 'and', 'as', 'assert', 'async', 'await', 'break', 'class', 'continue', 'def', 'del', 'elif', 'else', 'except', 'finally', 'for', 'from', 'global', 'if', 'import', 'in', 'is', 'lambda', 'nonlocal', 'not', 'or', 'pass', 'raise', 'return', 'try', 'while', 'with', 'yield']\n"
          ]
        }
      ]
    },
    {
      "cell_type": "markdown",
      "source": [
        "4. Write a program that checks if a given word is a Python keyword.\n"
      ],
      "metadata": {
        "id": "zti7RuZeCuQy"
      }
    },
    {
      "cell_type": "code",
      "source": [
        "import keyword\n",
        "\n",
        "word = input(\"Enter a word: \")\n",
        "if keyword.iskeyword(word):\n",
        "    print(f\"'{word}' is a Python keyword.\")\n",
        "else:\n",
        "    print(f\"'{word}' is NOT a Python keyword.\")"
      ],
      "metadata": {
        "colab": {
          "base_uri": "https://localhost:8080/"
        },
        "id": "i3sujNSUD19w",
        "outputId": "d41a86bb-3560-43b9-c426-1e444d5ae1c1"
      },
      "execution_count": 9,
      "outputs": [
        {
          "output_type": "stream",
          "name": "stdout",
          "text": [
            "Enter a word: hgfrf\n",
            "'hgfrf' is NOT a Python keyword.\n"
          ]
        }
      ]
    },
    {
      "cell_type": "markdown",
      "source": [
        "5. Create a list and tuple in Python, and demonstrate how attempting to change an element works differently\n",
        "for each."
      ],
      "metadata": {
        "id": "yWfVLu4mCzjC"
      }
    },
    {
      "cell_type": "code",
      "source": [
        "def modify_data(lst, num):\n",
        "    lst.append(10)       # List is mutable\n",
        "    num += 10            # Integer is immutable\n",
        "    print(\"Inside function - List:\", lst)\n",
        "    print(\"Inside function - Number:\", num)\n",
        "\n",
        "my_list = [1, 2, 3]\n",
        "my_num = 5\n",
        "modify_data(my_list, my_num)\n",
        "print(\"Outside function - List:\", my_list)\n",
        "print(\"Outside function - Number:\", my_num)"
      ],
      "metadata": {
        "colab": {
          "base_uri": "https://localhost:8080/"
        },
        "id": "-FRhsVINED8y",
        "outputId": "659dde56-3138-41f8-9168-4115dd363129"
      },
      "execution_count": 10,
      "outputs": [
        {
          "output_type": "stream",
          "name": "stdout",
          "text": [
            "Inside function - List: [1, 2, 3, 10]\n",
            "Inside function - Number: 15\n",
            "Outside function - List: [1, 2, 3, 10]\n",
            "Outside function - Number: 5\n"
          ]
        }
      ]
    },
    {
      "cell_type": "markdown",
      "source": [
        "6. Write a function to demonstrate the behavior of mutable and immutable arguments."
      ],
      "metadata": {
        "id": "7kj0YtkZDAAv"
      }
    },
    {
      "cell_type": "code",
      "source": [
        "a = float(input(\"Enter first number: \"))\n",
        "b = float(input(\"Enter second number: \"))\n",
        "\n",
        "print(\"Addition:\", a + b)\n",
        "print(\"Subtraction:\", a - b)\n",
        "print(\"Multiplication:\", a * b)\n",
        "print(\"Division:\", a / b)"
      ],
      "metadata": {
        "colab": {
          "base_uri": "https://localhost:8080/"
        },
        "id": "j_nQtqseELgp",
        "outputId": "cd9aa835-a235-474a-ecb2-b140a41257ed"
      },
      "execution_count": 11,
      "outputs": [
        {
          "output_type": "stream",
          "name": "stdout",
          "text": [
            "Enter first number: 4\n",
            "Enter second number: 5\n",
            "Addition: 9.0\n",
            "Subtraction: -1.0\n",
            "Multiplication: 20.0\n",
            "Division: 0.8\n"
          ]
        }
      ]
    },
    {
      "cell_type": "markdown",
      "source": [
        "7. Write a program that performs basic arithmetic operations on two user-input numbers."
      ],
      "metadata": {
        "id": "ogq5bTsPDF97"
      }
    },
    {
      "cell_type": "code",
      "source": [
        "x = int(input(\"Enter a number: \"))\n",
        "print(\"Is x between 10 and 20?\", x > 10 and x < 20)\n",
        "print(\"Is x less than 5 or greater than 15?\", x < 5 or x > 15)\n",
        "print(\"Is x NOT equal to 0?\", not x == 0)"
      ],
      "metadata": {
        "colab": {
          "base_uri": "https://localhost:8080/"
        },
        "id": "yhNXywyoEVHA",
        "outputId": "88e4b4f8-9a3b-4f55-f9cc-5ee86ca70a77"
      },
      "execution_count": 12,
      "outputs": [
        {
          "output_type": "stream",
          "name": "stdout",
          "text": [
            "Enter a number: 5\n",
            "Is x between 10 and 20? False\n",
            "Is x less than 5 or greater than 15? False\n",
            "Is x NOT equal to 0? True\n"
          ]
        }
      ]
    },
    {
      "cell_type": "markdown",
      "source": [
        "8. Write a program to demonstrate the use of logical operators."
      ],
      "metadata": {
        "id": "Ee0tMmgDDJoC"
      }
    },
    {
      "cell_type": "code",
      "source": [
        "my_list = [1, 2, 3]\n",
        "my_tuple = (1, 2, 3)\n",
        "\n",
        "my_list[0] = 99\n",
        "print(\"Modified list:\", my_list)\n",
        "\n",
        "try:\n",
        "    my_tuple[0] = 99\n",
        "except TypeError as e:\n",
        "    print(\"Error modifying tuple:\", e)"
      ],
      "metadata": {
        "colab": {
          "base_uri": "https://localhost:8080/"
        },
        "id": "UFRcrEplEcls",
        "outputId": "d7caa30f-b20c-43ca-cf0b-53393e684118"
      },
      "execution_count": 13,
      "outputs": [
        {
          "output_type": "stream",
          "name": "stdout",
          "text": [
            "Modified list: [99, 2, 3]\n",
            "Error modifying tuple: 'tuple' object does not support item assignment\n"
          ]
        }
      ]
    },
    {
      "cell_type": "markdown",
      "source": [
        "9. Write a Python program to convert user input from string to integer, float, and boolean types."
      ],
      "metadata": {
        "id": "x-FOJKI-DMmQ"
      }
    },
    {
      "cell_type": "code",
      "source": [
        "user_input = input(\"Enter a value: \")\n",
        "int_val = int(user_input)\n",
        "float_val = float(user_input)\n",
        "bool_val = bool(user_input)\n",
        "\n",
        "print(\"Integer:\", int_val)\n",
        "print(\"Float:\", float_val)\n",
        "print(\"Boolean:\", bool_val)"
      ],
      "metadata": {
        "colab": {
          "base_uri": "https://localhost:8080/"
        },
        "id": "mnw2jJBYEmkJ",
        "outputId": "96b0eaad-26dc-4e2b-8656-7e72f0426847"
      },
      "execution_count": 14,
      "outputs": [
        {
          "output_type": "stream",
          "name": "stdout",
          "text": [
            "Enter a value: 5\n",
            "Integer: 5\n",
            "Float: 5.0\n",
            "Boolean: True\n"
          ]
        }
      ]
    },
    {
      "cell_type": "markdown",
      "source": [
        "10. Write code to demonstrate type casting with list elements."
      ],
      "metadata": {
        "id": "s1zwQ5EqDO9I"
      }
    },
    {
      "cell_type": "code",
      "source": [
        "str_list = ['1', '2', '3']\n",
        "int_list = list(map(int, str_list))\n",
        "print(\"Original:\", str_list)\n",
        "print(\"Converted to integers:\", int_list)"
      ],
      "metadata": {
        "colab": {
          "base_uri": "https://localhost:8080/"
        },
        "id": "UZLjNE8eEzHm",
        "outputId": "71570510-1257-4566-8c27-0e802243869e"
      },
      "execution_count": 15,
      "outputs": [
        {
          "output_type": "stream",
          "name": "stdout",
          "text": [
            "Original: ['1', '2', '3']\n",
            "Converted to integers: [1, 2, 3]\n"
          ]
        }
      ]
    },
    {
      "cell_type": "markdown",
      "source": [
        "11. Write a program that checks if a number is positive, negative, or zero."
      ],
      "metadata": {
        "id": "g5CdAJhPDQ-5"
      }
    },
    {
      "cell_type": "code",
      "source": [
        "num = float(input(\"Enter a number: \"))\n",
        "\n",
        "if num > 0:\n",
        "    print(\"Positive\")\n",
        "elif num < 0:\n",
        "    print(\"Negative\")\n",
        "else:\n",
        "    print(\"Zero\")"
      ],
      "metadata": {
        "colab": {
          "base_uri": "https://localhost:8080/"
        },
        "id": "4iEE43kwE6Eu",
        "outputId": "3a3f9321-d53d-43a1-91dc-54290df6c395"
      },
      "execution_count": 16,
      "outputs": [
        {
          "output_type": "stream",
          "name": "stdout",
          "text": [
            "Enter a number: 5\n",
            "Positive\n"
          ]
        }
      ]
    },
    {
      "cell_type": "markdown",
      "source": [
        "12. Write a for loop to print numbers from 1 to 10."
      ],
      "metadata": {
        "id": "bb8Ovh3SDSiC"
      }
    },
    {
      "cell_type": "code",
      "source": [
        "for i in range(1, 11):\n",
        "    print(i)\n"
      ],
      "metadata": {
        "colab": {
          "base_uri": "https://localhost:8080/"
        },
        "id": "UGbtqS7PFCg1",
        "outputId": "29f46587-95c2-4454-ba71-ebaeb58cb031"
      },
      "execution_count": 17,
      "outputs": [
        {
          "output_type": "stream",
          "name": "stdout",
          "text": [
            "1\n",
            "2\n",
            "3\n",
            "4\n",
            "5\n",
            "6\n",
            "7\n",
            "8\n",
            "9\n",
            "10\n"
          ]
        }
      ]
    },
    {
      "cell_type": "markdown",
      "source": [
        "13. Write a Python program to find the sum of all even numbers between 1 and 50."
      ],
      "metadata": {
        "id": "-P6WGl4eDUQ4"
      }
    },
    {
      "cell_type": "code",
      "source": [
        "total = 0\n",
        "for i in range(1, 51):\n",
        "    if i % 2 == 0:\n",
        "        total += i\n",
        "print(\"Sum of even numbers from 1 to 50:\", total)"
      ],
      "metadata": {
        "colab": {
          "base_uri": "https://localhost:8080/"
        },
        "id": "SbKAI-6nFG2c",
        "outputId": "1afe7be9-30fb-4b41-d2f8-3c74b28a3872"
      },
      "execution_count": 18,
      "outputs": [
        {
          "output_type": "stream",
          "name": "stdout",
          "text": [
            "Sum of even numbers from 1 to 50: 650\n"
          ]
        }
      ]
    },
    {
      "cell_type": "markdown",
      "source": [
        "14. Write a program to reverse a string using a while loop."
      ],
      "metadata": {
        "id": "HDvtQezTDWHU"
      }
    },
    {
      "cell_type": "code",
      "source": [
        "text = input(\"Enter a string: \")\n",
        "reversed_str = \"\"\n",
        "i = len(text) - 1\n",
        "\n",
        "while i >= 0:\n",
        "    reversed_str += text[i]\n",
        "    i -= 1\n",
        "\n",
        "print(\"Reversed string:\", reversed_str)"
      ],
      "metadata": {
        "colab": {
          "base_uri": "https://localhost:8080/"
        },
        "id": "i8W5-nR3FLcv",
        "outputId": "9eb10067-87b8-4258-ba01-55345bf4c5fe"
      },
      "execution_count": 19,
      "outputs": [
        {
          "output_type": "stream",
          "name": "stdout",
          "text": [
            "Enter a string: hgdc\n",
            "Reversed string: cdgh\n"
          ]
        }
      ]
    },
    {
      "cell_type": "markdown",
      "source": [
        "15. Write a Python program to calculate the factorial of a number provided by the user using a while loop."
      ],
      "metadata": {
        "id": "oNDxRK_1DY2j"
      }
    },
    {
      "cell_type": "code",
      "source": [
        "num = int(input(\"Enter a number: \"))\n",
        "factorial = 1\n",
        "i = 1\n",
        "\n",
        "while i <= num:\n",
        "    factorial *= i\n",
        "    i += 1\n",
        "\n",
        "print(\"Factorial of\", num, \"is\", factorial)"
      ],
      "metadata": {
        "colab": {
          "base_uri": "https://localhost:8080/"
        },
        "id": "pMJ9bT5gCQob",
        "outputId": "5b73bf2f-95eb-4712-d32a-5fea7ace0450"
      },
      "execution_count": 20,
      "outputs": [
        {
          "output_type": "stream",
          "name": "stdout",
          "text": [
            "Enter a number: 4\n",
            "Factorial of 4 is 24\n"
          ]
        }
      ]
    }
  ]
}